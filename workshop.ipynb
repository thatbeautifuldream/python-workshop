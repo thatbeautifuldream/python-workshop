{
 "cells": [
  {
   "cell_type": "markdown",
   "id": "877d7a03",
   "metadata": {},
   "source": [
    "# Python Workshop\n",
    "> Python is a Object Oriented Programming Language\n",
    "> Layers in Python are frontend, backend, and middleware\n",
    "> Used in Machine Learning, Data Science, and Web Development (Django, Flask, etc.), IoT, and more.\n",
    "> Python is both compiler based (A compiler is a computer program that translates computer code written in one programming language into another language) and interpreted language."
   ]
  },
  {
   "cell_type": "code",
   "execution_count": 1,
   "id": "3d66959c",
   "metadata": {},
   "outputs": [
    {
     "name": "stdout",
     "output_type": "stream",
     "text": [
      "Hello World\n"
     ]
    }
   ],
   "source": [
    "print('Hello World')"
   ]
  },
  {
   "cell_type": "code",
   "execution_count": 7,
   "id": "957c70a2",
   "metadata": {},
   "outputs": [
    {
     "name": "stdout",
     "output_type": "stream",
     "text": [
      "a is :  2\n",
      "<class 'int'>\n",
      "b is :  2.5\n",
      "<class 'float'>\n",
      "c is :  Hello\n",
      "<class 'str'>\n",
      "d is :  True\n",
      "<class 'bool'>\n"
     ]
    }
   ],
   "source": [
    "# Data Types : Numbers, Strings, Lists, Tuples, Dictionaries\n",
    "a = 2 # int\n",
    "b = 2.5 # float\n",
    "c = 'Hello' # str\n",
    "d = True # bool (True or False)\n",
    "print('a is : ', a)\n",
    "print(type(a))\n",
    "print('b is : ', b)\n",
    "print(type(b))\n",
    "print('c is : ', c)\n",
    "print(type(c))\n",
    "print('d is : ', d)\n",
    "print(type(d))"
   ]
  },
  {
   "cell_type": "code",
   "execution_count": 12,
   "id": "b8ff2e3f",
   "metadata": {},
   "outputs": [
    {
     "name": "stdout",
     "output_type": "stream",
     "text": [
      "a + b =  14.5\n"
     ]
    }
   ],
   "source": [
    "a = 5\n",
    "b = 9.5\n",
    "print('a + b = ', a + b)"
   ]
  },
  {
   "cell_type": "code",
   "execution_count": 19,
   "id": "c6e8b7c7",
   "metadata": {},
   "outputs": [
    {
     "name": "stdout",
     "output_type": "stream",
     "text": [
      "list is :  [1, 2, 3, 4, 5]\n",
      "<class 'list'>\n",
      "list is :  [1, 2, 3, 4, 5, 6]\n",
      "list is :  [1, 2, 3, 4, 5, 6, 7, 8, 9]\n",
      "list is :  [1, 2, 10, 3, 4, 5, 6, 7, 8, 9]\n",
      "list is :  [1, 2, 3, 4, 5, 6, 7, 8, 9]\n",
      "list is :  [1, 2, 3, 4, 5, 6, 7, 8]\n",
      "list is :  [1, 2, 3, 4, 5, 6, 7, 8]\n",
      "list is :  [8, 7, 6, 5, 4, 3, 2, 1]\n"
     ]
    }
   ],
   "source": [
    "# a = 9\n",
    "# id(a)\n",
    "# Data Structures : Lists, Tuples, Dictionaries\n",
    "# mutable (lists, dictionary, sets) : can be changed\n",
    "# immutable (tuples, strings) : cannot be changed\n",
    "# list : [] , tuple : () , dictionary : {}\n",
    "list = [1, 2, 3, 4, 5]\n",
    "print('list is : ', list)\n",
    "print(type(list))\n",
    "# list functions : append, extend, insert, remove, pop, sort, reverse\n",
    "list.append(6)\n",
    "print('list is : ', list)\n",
    "list.extend([7, 8, 9])\n",
    "print('list is : ', list)\n",
    "list.insert(2, 10)\n",
    "print('list is : ', list)\n",
    "list.remove(10)\n",
    "print('list is : ', list)\n",
    "list.pop() # pops the last element\n",
    "print('list is : ', list)\n",
    "list.sort() # list is already sorted so it wont eff\n",
    "print('list is : ', list)\n",
    "list.reverse()\n",
    "print('list is : ', list)"
   ]
  },
  {
   "cell_type": "code",
   "execution_count": 20,
   "id": "ea5344ba",
   "metadata": {},
   "outputs": [
    {
     "name": "stdout",
     "output_type": "stream",
     "text": [
      "dict is :  {'a': 1, 'b': 2, 'c': 3}\n",
      "<class 'dict'>\n",
      "dict['a'] is :  1\n",
      "dict['b'] is :  2\n",
      "dict['c'] is :  3\n",
      "dict.get('a') is :  1\n",
      "dict.get('b') is :  2\n",
      "dict.get('c') is :  3\n",
      "dict.items() is :  dict_items([('a', 1), ('b', 2), ('c', 3)])\n",
      "dict.keys() is :  dict_keys(['a', 'b', 'c'])\n",
      "dict.values() is :  dict_values([1, 2, 3])\n",
      "dict is :  {'a': 1, 'b': 2, 'c': 3, 'd': 4}\n"
     ]
    }
   ],
   "source": [
    "# Dictionary : key-value pairs\n",
    "dict = {'a': 1, 'b': 2, 'c': 3}\n",
    "print('dict is : ', dict)\n",
    "print(type(dict))\n",
    "# dict functions : get, items, keys, values, update, clear\n",
    "print('dict[\\'a\\'] is : ', dict['a'])   \n",
    "print('dict[\\'b\\'] is : ', dict['b'])\n",
    "print('dict[\\'c\\'] is : ', dict['c'])\n",
    "print('dict.get(\\'a\\') is : ', dict.get('a'))\n",
    "print('dict.get(\\'b\\') is : ', dict.get('b'))\n",
    "print('dict.get(\\'c\\') is : ', dict.get('c'))\n",
    "print('dict.items() is : ', dict.items())\n",
    "print('dict.keys() is : ', dict.keys())\n",
    "print('dict.values() is : ', dict.values())\n",
    "dict.update({'d': 4})\n",
    "print('dict is : ', dict)\n",
    "\n"
   ]
  },
  {
   "cell_type": "code",
   "execution_count": 22,
   "id": "c3272421",
   "metadata": {},
   "outputs": [
    {
     "name": "stdout",
     "output_type": "stream",
     "text": [
      "set is :  {1, 2, 3, 4, 5}\n",
      "<class 'set'>\n",
      "set is :  {1, 2, 3, 4, 5, 6}\n",
      "set is :  {1, 2, 3, 4, 5}\n",
      "set is :  {1, 2, 3, 4, 5}\n",
      "set is :  {2, 3, 4, 5}\n",
      "set is :  set()\n",
      "set1 is :  {1, 2, 3, 4, 5}\n",
      "set2 is :  {4, 5, 6, 7, 8}\n",
      "set1.union(set2) is :  {1, 2, 3, 4, 5, 6, 7, 8}\n",
      "set1.intersection(set2) is :  {4, 5}\n",
      "set1.difference(set2) is :  {1, 2, 3}\n",
      "set1.symmetric_difference(set2) is :  {1, 2, 3, 6, 7, 8}\n"
     ]
    }
   ],
   "source": [
    "# Sets : unordered collection of unique elements\n",
    "set = {1, 2, 3, 4, 5}\n",
    "print('set is : ', set)\n",
    "print(type(set))\n",
    "# set functions : add, remove, discard, pop, clear, union, intersection, difference, symmetric_difference\n",
    "set.add(6)\n",
    "print('set is : ', set)\n",
    "set.remove(6)\n",
    "print('set is : ', set)\n",
    "set.discard(6)\n",
    "print('set is : ', set)\n",
    "set.pop()\n",
    "print('set is : ', set)\n",
    "set.clear()\n",
    "print('set is : ', set)\n",
    "set1 = {1, 2, 3, 4, 5}\n",
    "set2 = {4, 5, 6, 7, 8}\n",
    "print('set1 is : ', set1)\n",
    "print('set2 is : ', set2)\n",
    "print('set1.union(set2) is : ', set1.union(set2))\n",
    "print('set1.intersection(set2) is : ', set1.intersection(set2))\n",
    "print('set1.difference(set2) is : ', set1.difference(set2))\n",
    "print('set1.symmetric_difference(set2) is : ', set1.symmetric_difference(set2))\n"
   ]
  },
  {
   "cell_type": "code",
   "execution_count": 23,
   "id": "381b02ba",
   "metadata": {},
   "outputs": [
    {
     "name": "stdout",
     "output_type": "stream",
     "text": [
      "add(1, 2) is :  3\n"
     ]
    }
   ],
   "source": [
    "# Functions : def, return, arguments, default arguments, keyword arguments, variable arguments\n",
    "# def function_name(arg1, arg2, ...):\n",
    "#     function body\n",
    "#     return value\n",
    "def add(a, b):\n",
    "    return a + b\n",
    "print('add(1, 2) is : ', add(1, 2))\n"
   ]
  },
  {
   "cell_type": "code",
   "execution_count": 27,
   "id": "b89e5522",
   "metadata": {},
   "outputs": [
    {
     "name": "stdout",
     "output_type": "stream",
     "text": [
      "simpleIntrest(p, r, t) is :  200.0\n"
     ]
    }
   ],
   "source": [
    "def simpleIntrest(p, r, t):\n",
    "    return p * r * t / 100\n",
    "p = 1000\n",
    "r = 10\n",
    "t = 2\n",
    "print('simpleIntrest(p, r, t) is : ', simpleIntrest(p, r, t))"
   ]
  },
  {
   "cell_type": "code",
   "execution_count": 29,
   "id": "ea67e2ab",
   "metadata": {},
   "outputs": [
    {
     "name": "stdout",
     "output_type": "stream",
     "text": [
      "areaOfTraingle(b, h) is :  100.0\n"
     ]
    }
   ],
   "source": [
    "def areaOfTraingle(b, h):\n",
    "    return 0.5 * b * h\n",
    "b = 10\n",
    "h = 20\n",
    "print('areaOfTraingle(b, h) is : ', areaOfTraingle(b, h))"
   ]
  },
  {
   "cell_type": "code",
   "execution_count": null,
   "id": "141a304d",
   "metadata": {},
   "outputs": [],
   "source": []
  }
 ],
 "metadata": {
  "kernelspec": {
   "display_name": "Python 3 (ipykernel)",
   "language": "python",
   "name": "python3"
  },
  "language_info": {
   "codemirror_mode": {
    "name": "ipython",
    "version": 3
   },
   "file_extension": ".py",
   "mimetype": "text/x-python",
   "name": "python",
   "nbconvert_exporter": "python",
   "pygments_lexer": "ipython3",
   "version": "3.9.9"
  }
 },
 "nbformat": 4,
 "nbformat_minor": 5
}
