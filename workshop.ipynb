{
 "cells": [
  {
   "cell_type": "markdown",
   "id": "877d7a03",
   "metadata": {},
   "source": [
    "# Python Workshop\n",
    "> Python is a Object Oriented Programming Language\n",
    "> Layers in Python are frontend, backend, and middleware\n",
    "> Used in Machine Learning, Data Science, and Web Development (Django, Flask, etc.), IoT, and more.\n",
    "> Python is both compiler based (A compiler is a computer program that translates computer code written in one programming language into another language) and interpreted language."
   ]
  },
  {
   "cell_type": "code",
   "execution_count": 1,
   "id": "3d66959c",
   "metadata": {},
   "outputs": [
    {
     "name": "stdout",
     "output_type": "stream",
     "text": [
      "Hello World\n"
     ]
    }
   ],
   "source": [
    "print('Hello World')"
   ]
  },
  {
   "cell_type": "code",
   "execution_count": null,
   "id": "957c70a2",
   "metadata": {},
   "outputs": [],
   "source": [
    "# Data Types : Numbers, Strings, Lists, Tuples, Dictionaries\n"
   ]
  }
 ],
 "metadata": {
  "kernelspec": {
   "display_name": "Python 3 (ipykernel)",
   "language": "python",
   "name": "python3"
  },
  "language_info": {
   "codemirror_mode": {
    "name": "ipython",
    "version": 3
   },
   "file_extension": ".py",
   "mimetype": "text/x-python",
   "name": "python",
   "nbconvert_exporter": "python",
   "pygments_lexer": "ipython3",
   "version": "3.9.9"
  }
 },
 "nbformat": 4,
 "nbformat_minor": 5
}
