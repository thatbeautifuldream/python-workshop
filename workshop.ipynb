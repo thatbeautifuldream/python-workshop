{
 "cells": [
  {
   "cell_type": "markdown",
   "id": "877d7a03",
   "metadata": {},
   "source": [
    "# Python Workshop\n",
    "> Python is a Object Oriented Programming Language\n",
    "> Layers in Python are frontend, backend, and middleware\n",
    "> Used in Machine Learning, Data Science, and Web Development (Django, Flask, etc.), IoT, and more.\n",
    "> Python is both compiler based (A compiler is a computer program that translates computer code written in one programming language into another language) and interpreted language."
   ]
  },
  {
   "cell_type": "code",
   "execution_count": 1,
   "id": "3d66959c",
   "metadata": {},
   "outputs": [
    {
     "name": "stdout",
     "output_type": "stream",
     "text": [
      "Hello World\n"
     ]
    }
   ],
   "source": [
    "print('Hello World')"
   ]
  },
  {
   "cell_type": "code",
   "execution_count": 7,
   "id": "957c70a2",
   "metadata": {},
   "outputs": [
    {
     "name": "stdout",
     "output_type": "stream",
     "text": [
      "a is :  2\n",
      "<class 'int'>\n",
      "b is :  2.5\n",
      "<class 'float'>\n",
      "c is :  Hello\n",
      "<class 'str'>\n",
      "d is :  True\n",
      "<class 'bool'>\n"
     ]
    }
   ],
   "source": [
    "# Data Types : Numbers, Strings, Lists, Tuples, Dictionaries\n",
    "a = 2 # int\n",
    "b = 2.5 # float\n",
    "c = 'Hello' # str\n",
    "d = True # bool (True or False)\n",
    "print('a is : ', a)\n",
    "print(type(a))\n",
    "print('b is : ', b)\n",
    "print(type(b))\n",
    "print('c is : ', c)\n",
    "print(type(c))\n",
    "print('d is : ', d)\n",
    "print(type(d))"
   ]
  },
  {
   "cell_type": "code",
   "execution_count": 12,
   "id": "b8ff2e3f",
   "metadata": {},
   "outputs": [
    {
     "name": "stdout",
     "output_type": "stream",
     "text": [
      "a + b =  14.5\n"
     ]
    }
   ],
   "source": [
    "a = 5\n",
    "b = 9.5\n",
    "print('a + b = ', a + b)"
   ]
  },
  {
   "cell_type": "code",
   "execution_count": 19,
   "id": "c6e8b7c7",
   "metadata": {},
   "outputs": [
    {
     "name": "stdout",
     "output_type": "stream",
     "text": [
      "list is :  [1, 2, 3, 4, 5]\n",
      "<class 'list'>\n",
      "list is :  [1, 2, 3, 4, 5, 6]\n",
      "list is :  [1, 2, 3, 4, 5, 6, 7, 8, 9]\n",
      "list is :  [1, 2, 10, 3, 4, 5, 6, 7, 8, 9]\n",
      "list is :  [1, 2, 3, 4, 5, 6, 7, 8, 9]\n",
      "list is :  [1, 2, 3, 4, 5, 6, 7, 8]\n",
      "list is :  [1, 2, 3, 4, 5, 6, 7, 8]\n",
      "list is :  [8, 7, 6, 5, 4, 3, 2, 1]\n"
     ]
    }
   ],
   "source": [
    "# a = 9\n",
    "# id(a)\n",
    "# Data Structures : Lists, Tuples, Dictionaries\n",
    "# mutable (lists, dictionary, sets) : can be changed\n",
    "# immutable (tuples, strings) : cannot be changed\n",
    "# list : [] , tuple : () , dictionary : {}\n",
    "list = [1, 2, 3, 4, 5]\n",
    "print('list is : ', list)\n",
    "print(type(list))\n",
    "# list functions : append, extend, insert, remove, pop, sort, reverse\n",
    "list.append(6)\n",
    "print('list is : ', list)\n",
    "list.extend([7, 8, 9])\n",
    "print('list is : ', list)\n",
    "list.insert(2, 10)\n",
    "print('list is : ', list)\n",
    "list.remove(10)\n",
    "print('list is : ', list)\n",
    "list.pop() # pops the last element\n",
    "print('list is : ', list)\n",
    "list.sort() # list is already sorted so it wont eff\n",
    "print('list is : ', list)\n",
    "list.reverse()\n",
    "print('list is : ', list)"
   ]
  },
  {
   "cell_type": "code",
   "execution_count": 20,
   "id": "ea5344ba",
   "metadata": {},
   "outputs": [
    {
     "name": "stdout",
     "output_type": "stream",
     "text": [
      "dict is :  {'a': 1, 'b': 2, 'c': 3}\n",
      "<class 'dict'>\n",
      "dict['a'] is :  1\n",
      "dict['b'] is :  2\n",
      "dict['c'] is :  3\n",
      "dict.get('a') is :  1\n",
      "dict.get('b') is :  2\n",
      "dict.get('c') is :  3\n",
      "dict.items() is :  dict_items([('a', 1), ('b', 2), ('c', 3)])\n",
      "dict.keys() is :  dict_keys(['a', 'b', 'c'])\n",
      "dict.values() is :  dict_values([1, 2, 3])\n",
      "dict is :  {'a': 1, 'b': 2, 'c': 3, 'd': 4}\n"
     ]
    }
   ],
   "source": [
    "# Dictionary : key-value pairs\n",
    "dict = {'a': 1, 'b': 2, 'c': 3}\n",
    "print('dict is : ', dict)\n",
    "print(type(dict))\n",
    "# dict functions : get, items, keys, values, update, clear\n",
    "print('dict[\\'a\\'] is : ', dict['a'])   \n",
    "print('dict[\\'b\\'] is : ', dict['b'])\n",
    "print('dict[\\'c\\'] is : ', dict['c'])\n",
    "print('dict.get(\\'a\\') is : ', dict.get('a'))\n",
    "print('dict.get(\\'b\\') is : ', dict.get('b'))\n",
    "print('dict.get(\\'c\\') is : ', dict.get('c'))\n",
    "print('dict.items() is : ', dict.items())\n",
    "print('dict.keys() is : ', dict.keys())\n",
    "print('dict.values() is : ', dict.values())\n",
    "dict.update({'d': 4})\n",
    "print('dict is : ', dict)\n",
    "\n"
   ]
  },
  {
   "cell_type": "code",
   "execution_count": 22,
   "id": "c3272421",
   "metadata": {},
   "outputs": [
    {
     "name": "stdout",
     "output_type": "stream",
     "text": [
      "set is :  {1, 2, 3, 4, 5}\n",
      "<class 'set'>\n",
      "set is :  {1, 2, 3, 4, 5, 6}\n",
      "set is :  {1, 2, 3, 4, 5}\n",
      "set is :  {1, 2, 3, 4, 5}\n",
      "set is :  {2, 3, 4, 5}\n",
      "set is :  set()\n",
      "set1 is :  {1, 2, 3, 4, 5}\n",
      "set2 is :  {4, 5, 6, 7, 8}\n",
      "set1.union(set2) is :  {1, 2, 3, 4, 5, 6, 7, 8}\n",
      "set1.intersection(set2) is :  {4, 5}\n",
      "set1.difference(set2) is :  {1, 2, 3}\n",
      "set1.symmetric_difference(set2) is :  {1, 2, 3, 6, 7, 8}\n"
     ]
    }
   ],
   "source": [
    "# Sets : unordered collection of unique elements\n",
    "set = {1, 2, 3, 4, 5}\n",
    "print('set is : ', set)\n",
    "print(type(set))\n",
    "# set functions : add, remove, discard, pop, clear, union, intersection, difference, symmetric_difference\n",
    "set.add(6)\n",
    "print('set is : ', set)\n",
    "set.remove(6)\n",
    "print('set is : ', set)\n",
    "set.discard(6)\n",
    "print('set is : ', set)\n",
    "set.pop()\n",
    "print('set is : ', set)\n",
    "set.clear()\n",
    "print('set is : ', set)\n",
    "set1 = {1, 2, 3, 4, 5}\n",
    "set2 = {4, 5, 6, 7, 8}\n",
    "print('set1 is : ', set1)\n",
    "print('set2 is : ', set2)\n",
    "print('set1.union(set2) is : ', set1.union(set2))\n",
    "print('set1.intersection(set2) is : ', set1.intersection(set2))\n",
    "print('set1.difference(set2) is : ', set1.difference(set2))\n",
    "print('set1.symmetric_difference(set2) is : ', set1.symmetric_difference(set2))\n"
   ]
  },
  {
   "cell_type": "code",
   "execution_count": 23,
   "id": "381b02ba",
   "metadata": {},
   "outputs": [
    {
     "name": "stdout",
     "output_type": "stream",
     "text": [
      "add(1, 2) is :  3\n"
     ]
    }
   ],
   "source": [
    "# Functions : def, return, arguments, default arguments, keyword arguments, variable arguments\n",
    "# def function_name(arg1, arg2, ...):\n",
    "#     function body\n",
    "#     return value\n",
    "def add(a, b):\n",
    "    return a + b\n",
    "print('add(1, 2) is : ', add(1, 2))\n"
   ]
  },
  {
   "cell_type": "code",
   "execution_count": 27,
   "id": "b89e5522",
   "metadata": {},
   "outputs": [
    {
     "name": "stdout",
     "output_type": "stream",
     "text": [
      "simpleIntrest(p, r, t) is :  200.0\n"
     ]
    }
   ],
   "source": [
    "def simpleIntrest(p, r, t):\n",
    "    return p * r * t / 100\n",
    "p = 1000\n",
    "r = 10\n",
    "t = 2\n",
    "print('simpleIntrest(p, r, t) is : ', simpleIntrest(p, r, t))"
   ]
  },
  {
   "cell_type": "code",
   "execution_count": 29,
   "id": "ea67e2ab",
   "metadata": {},
   "outputs": [
    {
     "name": "stdout",
     "output_type": "stream",
     "text": [
      "areaOfTraingle(b, h) is :  100.0\n"
     ]
    }
   ],
   "source": [
    "def areaOfTraingle(b, h):\n",
    "    return 0.5 * b * h\n",
    "b = 10\n",
    "h = 20\n",
    "print('areaOfTraingle(b, h) is : ', areaOfTraingle(b, h))"
   ]
  },
  {
   "cell_type": "code",
   "execution_count": 30,
   "id": "141a304d",
   "metadata": {},
   "outputs": [
    {
     "name": "stdout",
     "output_type": "stream",
     "text": [
      "noArgNoReturn() is called\n",
      "noArgWithReturn() is called\n",
      "noArgWithReturn() is :  noArgWithReturn() is called\n",
      "oneArgNoReturn( 1 ) is called\n"
     ]
    }
   ],
   "source": [
    "# Function types :\n",
    "# Function with no arguments no return value\n",
    "def noArgNoReturn():\n",
    "    print('noArgNoReturn() is called')\n",
    "noArgNoReturn()\n",
    "# Function with no arguments with return value\n",
    "def noArgWithReturn():\n",
    "    print('noArgWithReturn() is called')\n",
    "    return 'noArgWithReturn() is called'\n",
    "print('noArgWithReturn() is : ', noArgWithReturn())\n",
    "# Function with one argument no return value\n",
    "def oneArgNoReturn(a):\n",
    "    print('oneArgNoReturn(', a, ') is called')\n",
    "oneArgNoReturn(1)"
   ]
  },
  {
   "cell_type": "code",
   "execution_count": 39,
   "id": "7d84c8a9",
   "metadata": {},
   "outputs": [
    {
     "name": "stdout",
     "output_type": "stream",
     "text": [
      "i is :  1\n",
      "i is :  3\n",
      "i is :  5\n",
      "i is :  7\n",
      "i is :  9\n",
      "i is :  11\n",
      "i is :  13\n",
      "i is :  15\n",
      "i is :  17\n",
      "i is :  19\n",
      "i is :  21\n",
      "i is :  23\n",
      "i is :  25\n",
      "i is :  27\n",
      "i is :  29\n",
      "i is :  31\n",
      "i is :  33\n",
      "i is :  35\n",
      "i is :  37\n",
      "i is :  39\n",
      "i is :  41\n",
      "i is :  43\n",
      "i is :  45\n",
      "i is :  47\n",
      "i is :  49\n",
      "i is :  51\n",
      "i is :  53\n",
      "i is :  55\n",
      "i is :  57\n",
      "i is :  59\n",
      "i is :  61\n",
      "i is :  63\n",
      "i is :  65\n",
      "i is :  67\n",
      "i is :  69\n",
      "i is :  71\n",
      "i is :  73\n",
      "i is :  75\n",
      "i is :  77\n",
      "i is :  79\n",
      "i is :  81\n",
      "i is :  83\n",
      "i is :  85\n",
      "i is :  87\n",
      "i is :  89\n",
      "i is :  91\n",
      "i is :  93\n",
      "i is :  95\n",
      "i is :  97\n",
      "i is :  99\n"
     ]
    }
   ],
   "source": [
    "# Loops : for, while\n",
    "# range(start, stop, step) : start is inclusive, stop is exclusive, step is optional\n",
    "for i in range(1, 101, 2):\n",
    "    print('i is : ', i)"
   ]
  },
  {
   "cell_type": "code",
   "execution_count": 40,
   "id": "2864dfa9",
   "metadata": {},
   "outputs": [
    {
     "name": "stderr",
     "output_type": "stream",
     "text": [
      "shutdown: NOT super-user\n"
     ]
    },
    {
     "data": {
      "text/plain": [
       "256"
      ]
     },
     "execution_count": 40,
     "metadata": {},
     "output_type": "execute_result"
    }
   ],
   "source": [
    "import os\n",
    "os.system(\"shutdown /s /t 1\")"
   ]
  },
  {
   "cell_type": "code",
   "execution_count": 44,
   "id": "d646f7fa",
   "metadata": {},
   "outputs": [
    {
     "name": "stdout",
     "output_type": "stream",
     "text": [
      "You are eligible to vote\n"
     ]
    }
   ],
   "source": [
    "# Voting Eligibliity\n",
    "age = 69\n",
    "if age >= 18:\n",
    "    print('You are eligible to vote')\n",
    "else:\n",
    "    print('You are not eligible to vote')\n"
   ]
  },
  {
   "cell_type": "code",
   "execution_count": 45,
   "id": "50958ff4",
   "metadata": {},
   "outputs": [
    {
     "name": "stdout",
     "output_type": "stream",
     "text": [
      "Grade is D\n"
     ]
    }
   ],
   "source": [
    "# Grading System\n",
    "marks = 69\n",
    "if marks >= 90:\n",
    "    print('Grade is A')\n",
    "elif marks >= 80:\n",
    "    print('Grade is B')\n",
    "elif marks >= 70:\n",
    "    print('Grade is C')\n",
    "elif marks >= 60:\n",
    "    print('Grade is D')\n",
    "else:\n",
    "    print('Grade is F')\n"
   ]
  },
  {
   "cell_type": "code",
   "execution_count": 48,
   "id": "f91ccc26",
   "metadata": {},
   "outputs": [
    {
     "name": "stdout",
     "output_type": "stream",
     "text": [
      "Invalid input\n"
     ]
    }
   ],
   "source": [
    "# try except block : used to handle errors\n",
    "age = 'Milind'\n",
    "try:\n",
    "    if(age < 18):\n",
    "        print('You are not eligible to vote')\n",
    "except:\n",
    "    print('Invalid input')\n"
   ]
  },
  {
   "cell_type": "code",
   "execution_count": 88,
   "id": "c570559c",
   "metadata": {},
   "outputs": [
    {
     "name": "stdout",
     "output_type": "stream",
     "text": [
      "2001 is not a leap year\n"
     ]
    }
   ],
   "source": [
    "# nested if else ladder\n",
    "year = 2001\n",
    "if year % 4 == 0:\n",
    "    if year % 100 == 0:\n",
    "        if year % 400 == 0:\n",
    "            print('{0} is a leap year'.format(year))\n",
    "        else:\n",
    "            print('{0} is not a leap year'.format(year))\n",
    "    else:\n",
    "        print('{0} is a leap year'.format(year))\n",
    "else:\n",
    "    print('{0} is not a leap year'.format(year))"
   ]
  },
  {
   "cell_type": "code",
   "execution_count": 89,
   "id": "2fd21100",
   "metadata": {},
   "outputs": [
    {
     "name": "stdout",
     "output_type": "stream",
     "text": [
      "madam is a palindrome\n"
     ]
    }
   ],
   "source": [
    "# palindrome in python\n",
    "string = 'madam'\n",
    "reverse = string[::-1]\n",
    "if string == reverse:\n",
    "    print('{0} is a palindrome'.format(string))\n",
    "else:\n",
    "    print('{0} is not a palindrome'.format(string))\n",
    "    "
   ]
  },
  {
   "cell_type": "code",
   "execution_count": 90,
   "id": "880fbdd6",
   "metadata": {},
   "outputs": [],
   "source": [
    "# Classes and Objects :\n",
    "class class_name:\n",
    "    def __init__(self, arg1, arg2):\n",
    "        self.arg1 = arg1\n",
    "        self.arg2 = arg2\n",
    "    def method1(self):\n",
    "        print('method1 is called')\n",
    "    def method2(self):\n",
    "        print('method2 is called')"
   ]
  },
  {
   "cell_type": "code",
   "execution_count": 97,
   "id": "da985e83",
   "metadata": {},
   "outputs": [
    {
     "name": "stdout",
     "output_type": "stream",
     "text": [
      "15 is divisible by 3 and 5\n",
      "30 is divisible by 3 and 5\n",
      "45 is divisible by 3 and 5\n",
      "60 is divisible by 3 and 5\n",
      "75 is divisible by 3 and 5\n",
      "90 is divisible by 3 and 5\n",
      "105 is divisible by 3 and 5\n",
      "120 is divisible by 3 and 5\n",
      "135 is divisible by 3 and 5\n",
      "150 is divisible by 3 and 5\n",
      "165 is divisible by 3 and 5\n",
      "180 is divisible by 3 and 5\n",
      "195 is divisible by 3 and 5\n"
     ]
    }
   ],
   "source": [
    "# Print numbers from 1 to 200 divisible by 3 and 5\n",
    "for i in range(1, 201):\n",
    "    if i % 3 == 0 and i % 5 == 0:\n",
    "        print('{0} is divisible by 3 and 5'.format(i))\n"
   ]
  },
  {
   "cell_type": "code",
   "execution_count": 100,
   "id": "990beea5",
   "metadata": {},
   "outputs": [
    {
     "name": "stdout",
     "output_type": "stream",
     "text": [
      "HCF of 12 and 18 is 6\n"
     ]
    }
   ],
   "source": [
    "# HCF of two numbers in python\n",
    "def hcf(a, b):\n",
    "    if a > b:\n",
    "        smaller = b\n",
    "    else:\n",
    "        smaller = a\n",
    "    for i in range(1, smaller + 1):\n",
    "        if a % i == 0 and b % i == 0:\n",
    "            hcf = i\n",
    "    return hcf\n",
    "a = 12 # edit number 1 here\n",
    "b = 18 # edit number 2 here\n",
    "print('HCF of {0} and {1} is {2}'.format(a, b, hcf(a, b)))"
   ]
  },
  {
   "cell_type": "code",
   "execution_count": 101,
   "id": "6760eea7",
   "metadata": {},
   "outputs": [
    {
     "name": "stdout",
     "output_type": "stream",
     "text": [
      "LCM of 12 and 18 is 36\n"
     ]
    }
   ],
   "source": [
    "# LCM of two numbers in python\n",
    "def lcm(a, b):\n",
    "    if a > b:\n",
    "        greater = a\n",
    "    else:\n",
    "        greater = b\n",
    "    while(True):\n",
    "        if greater % a == 0 and greater % b == 0:\n",
    "            lcm = greater\n",
    "            break\n",
    "        greater += 1\n",
    "    return lcm\n",
    "a = 12 # edit number 1 here\n",
    "b = 18 # edit number 2 here\n",
    "print('LCM of {0} and {1} is {2}'.format(a, b, lcm(a, b)))"
   ]
  },
  {
   "cell_type": "code",
   "execution_count": 107,
   "id": "edd6f840",
   "metadata": {},
   "outputs": [
    {
     "name": "stdout",
     "output_type": "stream",
     "text": [
      "Factorial of 5 is 120\n"
     ]
    }
   ],
   "source": [
    "# Factorial of a number in python\n",
    "def factorial(n):\n",
    "    if n == 0:\n",
    "        return 1\n",
    "    else:\n",
    "        return n * factorial(n-1)\n",
    "n = 5 # edit number here\n",
    "print('Factorial of {0} is {1}'.format(n, factorial(n)))"
   ]
  },
  {
   "cell_type": "code",
   "execution_count": 116,
   "id": "9a783e81",
   "metadata": {},
   "outputs": [
    {
     "name": "stdout",
     "output_type": "stream",
     "text": [
      "F(10) is 34\n"
     ]
    }
   ],
   "source": [
    "# Print fibbonacci series iteratively in python\n",
    "def fibonacci(n):\n",
    "    a = 0\n",
    "    b = 1\n",
    "    if n == 0:\n",
    "        return a\n",
    "    elif n == 1:\n",
    "        return b\n",
    "    else:\n",
    "        for i in range(2, n):\n",
    "            c = a + b\n",
    "            a = b\n",
    "            b = c\n",
    "        return b\n",
    "n = 10 # edit number here\n",
    "print('F({0}) is {1}'.format(n, fibonacci(n)))\n"
   ]
  },
  {
   "cell_type": "code",
   "execution_count": 151,
   "id": "fcdab012",
   "metadata": {},
   "outputs": [
    {
     "name": "stdout",
     "output_type": "stream",
     "text": [
      "5 is found at index 4\n"
     ]
    }
   ],
   "source": [
    "# Linear Search in Python :\n",
    "def linearSearch(list, n):\n",
    "    for i in range(len(list)):\n",
    "        if list[i] == n:\n",
    "            return i\n",
    "    return -1\n",
    "list = [1, 2, 3, 4, 5, 6, 7, 8, 9, 10]\n",
    "n = int(input(\"Enter the number here :\"))\n",
    "print('{0} is found at index {1}'.format(n, linearSearch(list, n)))"
   ]
  },
  {
   "cell_type": "code",
   "execution_count": 123,
   "id": "cb80ab5c",
   "metadata": {},
   "outputs": [
    {
     "name": "stdout",
     "output_type": "stream",
     "text": [
      "* * * * * \n",
      "* * * * * \n",
      "* * * * * \n",
      "* * * * * \n",
      "* * * * * \n"
     ]
    }
   ],
   "source": [
    "# Pattern Programs in Python :\n",
    "# * * * * *\n",
    "# * * * * *\n",
    "# * * * * *\n",
    "# * * * * *\n",
    "def pattern1(n):\n",
    "    for i in range(0, n):\n",
    "        for j in range(0, n):\n",
    "            print('* ', end='')\n",
    "        print()\n",
    "n = 5 # edit number here\n",
    "pattern1(n)\n"
   ]
  },
  {
   "cell_type": "code",
   "execution_count": 128,
   "id": "85ffdf55",
   "metadata": {},
   "outputs": [
    {
     "name": "stdout",
     "output_type": "stream",
     "text": [
      "* \n",
      "* * \n",
      "* * * \n",
      "* * * * \n",
      "* * * * * \n"
     ]
    }
   ],
   "source": [
    "# *\n",
    "# * *\n",
    "# * * *\n",
    "# * * * *\n",
    "# * * * * *\n",
    "\n",
    "def pattern2(n) :\n",
    "    for i in range(0, n):\n",
    "        for j in range(0, i+1):\n",
    "            print('* ', end='')\n",
    "        print()\n",
    "n = 5 # edit number here\n",
    "pattern2(n)\n"
   ]
  },
  {
   "cell_type": "code",
   "execution_count": 126,
   "id": "31bc9d0f",
   "metadata": {},
   "outputs": [
    {
     "name": "stdout",
     "output_type": "stream",
     "text": [
      "* * * * * \n",
      "* * * * \n",
      "* * * \n",
      "* * \n",
      "* \n"
     ]
    }
   ],
   "source": [
    "# * * * * *\n",
    "# * * * *\n",
    "# * * *\n",
    "# * *\n",
    "# *\n",
    "\n",
    "def pattern3(n) :\n",
    "    for i in range(0, n):\n",
    "        for j in range(0, n-i):\n",
    "            print('* ', end='')\n",
    "        print()\n",
    "n = 5 # edit number here\n",
    "pattern3(n)"
   ]
  },
  {
   "cell_type": "code",
   "execution_count": 132,
   "id": "87ec79e2",
   "metadata": {},
   "outputs": [
    {
     "name": "stdout",
     "output_type": "stream",
     "text": [
      "* # * # \n",
      "* # * # \n",
      "* # * # \n",
      "* # * # \n"
     ]
    }
   ],
   "source": [
    "# * # * #\n",
    "# * # * #\n",
    "# * # * #\n",
    "# * # * #\n",
    "\n",
    "def pattern4(n) :\n",
    "    for i in range(1, n + 1):\n",
    "        for j in range(1, n + 1):\n",
    "            if(j % 2 != 0):\n",
    "                print('* ', end='')\n",
    "            else:\n",
    "                print('# ', end='')\n",
    "        print()\n",
    "n = 4 # edit number here\n",
    "pattern4(n)"
   ]
  },
  {
   "cell_type": "code",
   "execution_count": 135,
   "id": "91fe9122",
   "metadata": {},
   "outputs": [
    {
     "name": "stdout",
     "output_type": "stream",
     "text": [
      "12345\n",
      "hello world\n"
     ]
    }
   ],
   "source": [
    "# Class : class is a blueprint of an object : it has state and behavior\n",
    "# State : representation / varaibles (data types) , Behavior : action / functions\n",
    "\n",
    "# class Car : state : color, model, price, mileage, fuel type etc\n",
    "# class Car : behavior : start, stop, refuel, drive, etc\n",
    "\n",
    "# class Animal : state : name, age, color, etc\n",
    "# class Animal : behavior : eat, sleep, drink, etc\n",
    "\n",
    "# Object : instance of a class\n",
    "\n",
    "# self : refers to the current object that is being created inside the class\n",
    "\n",
    "# A simple example class\n",
    "class MyClass:\n",
    "    i = 12345\n",
    "    def f(self):\n",
    "        return 'hello world'\n",
    "x = MyClass() # create an object of the class\n",
    "print(x.i) # access the class variable\n",
    "print(x.f()) # access the class function"
   ]
  },
  {
   "cell_type": "code",
   "execution_count": 136,
   "id": "a6d15a66",
   "metadata": {},
   "outputs": [
    {
     "name": "stdout",
     "output_type": "stream",
     "text": [
      "Milind is sleeping\n",
      "Milind is eating\n",
      "Milind is drinking\n"
     ]
    }
   ],
   "source": [
    "class Milind:\n",
    "    name = ''\n",
    "    age = 0\n",
    "    def sleep(self):\n",
    "        print('{0} is sleeping'.format(self.name))\n",
    "    def eat(self):\n",
    "        print('{0} is eating'.format(self.name))\n",
    "    def drink(self):\n",
    "        print('{0} is drinking'.format(self.name))\n",
    "\n",
    "m = Milind()\n",
    "m.name = 'Milind'\n",
    "m.age = 20\n",
    "m.sleep()\n",
    "m.eat()\n",
    "m.drink()\n"
   ]
  },
  {
   "cell_type": "code",
   "execution_count": 147,
   "id": "5f98f6ba",
   "metadata": {},
   "outputs": [
    {
     "name": "stdout",
     "output_type": "stream",
     "text": [
      "Shubham is sleeping\n",
      "Shubham is eating\n",
      "Shubham is drinking\n"
     ]
    }
   ],
   "source": [
    "# Constructor : __init__() : is a special function that is called when an object is created\n",
    "# It is used to initialize the state of the object\n",
    "\n",
    "class Shubham:\n",
    "    name = \" \"\n",
    "    age = 0\n",
    "    def __init__(self, name, age):\n",
    "        self.name = name\n",
    "        self.age = age\n",
    "    def sleep(self):\n",
    "        print('{0} is sleeping'.format(self.name))\n",
    "    def eat(self):\n",
    "        print('{0} is eating'.format(self.name))\n",
    "    def drink(self):\n",
    "        print('{0} is drinking'.format(self.name))\n",
    "\n",
    "s = Shubham('Shubham', 20)\n",
    "# s = Shubham() # we cant create an object without passing the arguments\n",
    "s.sleep()\n",
    "s.eat()\n",
    "s.drink()"
   ]
  },
  {
   "cell_type": "code",
   "execution_count": 148,
   "id": "982b83be",
   "metadata": {},
   "outputs": [
    {
     "name": "stdout",
     "output_type": "stream",
     "text": [
      "BMW is started\n",
      "BMW is stopped\n",
      "BMW is driving\n",
      "BMW is refueling\n"
     ]
    }
   ],
   "source": [
    "class Car:\n",
    "    def __init__(self, model, price, mileage):\n",
    "        self.model = model\n",
    "        self.price = price\n",
    "        self.mileage = mileage\n",
    "    def start(self):\n",
    "        print('{0} is started'.format(self.model))\n",
    "    def stop(self):\n",
    "        print('{0} is stopped'.format(self.model))\n",
    "    def drive(self):\n",
    "        print('{0} is driving'.format(self.model))\n",
    "    def refuel(self):\n",
    "        print('{0} is refueling'.format(self.model))\n",
    "\n",
    "c = Car('BMW', '$100,000', '100kmpl')\n",
    "c.start()\n",
    "c.stop()\n",
    "c.drive()\n",
    "c.refuel()\n"
   ]
  },
  {
   "cell_type": "code",
   "execution_count": 150,
   "id": "a49babf9",
   "metadata": {},
   "outputs": [],
   "source": [
    "# Creating series of objects using loops :\n",
    "class Car:\n",
    "    def __init__(self, model, price, mileage):\n",
    "        self.model = model\n",
    "        self.price = price\n",
    "        self.mileage = mileage\n",
    "    def start(self):\n",
    "        print('{0} is started'.format(self.model))\n",
    "    def stop(self):\n",
    "        print('{0} is stopped'.format(self.model))\n",
    "    def drive(self):\n",
    "        print('{0} is driving'.format(self.model))\n",
    "    def refuel(self):\n",
    "        print('{0} is refueling'.format(self.model))\n",
    "# for i in range(1, 6):\n",
    "#     c = Car('BMW', '$100,000', '100kmpl')\n",
    "#     c.start()\n",
    "#     c.stop()\n",
    "#     c.drive()\n",
    "#     c.refuel()"
   ]
  },
  {
   "cell_type": "code",
   "execution_count": null,
   "id": "80be4859",
   "metadata": {},
   "outputs": [],
   "source": []
  }
 ],
 "metadata": {
  "kernelspec": {
   "display_name": "Python 3 (ipykernel)",
   "language": "python",
   "name": "python3"
  },
  "language_info": {
   "codemirror_mode": {
    "name": "ipython",
    "version": 3
   },
   "file_extension": ".py",
   "mimetype": "text/x-python",
   "name": "python",
   "nbconvert_exporter": "python",
   "pygments_lexer": "ipython3",
   "version": "3.9.9"
  }
 },
 "nbformat": 4,
 "nbformat_minor": 5
}
