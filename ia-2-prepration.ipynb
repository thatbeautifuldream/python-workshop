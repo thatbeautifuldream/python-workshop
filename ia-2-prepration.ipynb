{
 "cells": [
  {
   "cell_type": "code",
   "execution_count": 1,
   "metadata": {},
   "outputs": [
    {
     "name": "stdout",
     "output_type": "stream",
     "text": [
      "The longest word is programming and it has 11 letters.\n"
     ]
    }
   ],
   "source": [
    "# To get max word length in a string\n",
    "\n",
    "s = input(\"Enter a sentence:\")\n",
    "words = s.split()\n",
    "maxlen = 0\n",
    "maxw = None\n",
    "for w in words:\n",
    "    if len(w) > maxlen:\n",
    "        maxlen = len(w)\n",
    "        maxw = w\n",
    "print(\"The longest word is\", maxw, \"and it has\", maxlen, \"letters.\")"
   ]
  },
  {
   "cell_type": "code",
   "execution_count": 3,
   "metadata": {},
   "outputs": [
    {
     "name": "stdout",
     "output_type": "stream",
     "text": [
      "{'Python': 6, 'has': 3, 'so': 2, 'many': 4, 'libraries.': 10}\n",
      "[(10, 'libraries.'), (6, 'Python'), (4, 'many'), (3, 'has'), (2, 'so')]\n"
     ]
    }
   ],
   "source": [
    "# Printing lengthiest string in a list in descending order\n",
    "# List of words with highest length\n",
    "s = input(\"Enter the sentence:\")\n",
    "words = s.split()\n",
    "d = {}\n",
    "for w in words:\n",
    "    if w not in d:\n",
    "        d[w] = len(w)\n",
    "print(d)\n",
    "x = []\n",
    "for k, v in d.items():\n",
    "    x.append((v, k))\n",
    "x.sort(reverse=True)\n",
    "print(x)\n",
    "# print(\"Printing top 10 longest words in a list in descending order : \")\n",
    "# print(x[0:10])"
   ]
  },
  {
   "cell_type": "code",
   "execution_count": null,
   "metadata": {},
   "outputs": [],
   "source": []
  },
  {
   "cell_type": "code",
   "execution_count": null,
   "metadata": {},
   "outputs": [],
   "source": []
  }
 ],
 "metadata": {
  "interpreter": {
   "hash": "aee8b7b246df8f9039afb4144a1f6fd8d2ca17a180786b69acc140d282b71a49"
  },
  "kernelspec": {
   "display_name": "Python 3.9.9 64-bit",
   "language": "python",
   "name": "python3"
  },
  "language_info": {
   "codemirror_mode": {
    "name": "ipython",
    "version": 3
   },
   "file_extension": ".py",
   "mimetype": "text/x-python",
   "name": "python",
   "nbconvert_exporter": "python",
   "pygments_lexer": "ipython3",
   "version": "3.9.9"
  },
  "orig_nbformat": 4
 },
 "nbformat": 4,
 "nbformat_minor": 2
}
